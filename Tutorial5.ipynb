{
 "cells": [
  {
   "cell_type": "code",
   "execution_count": null,
   "metadata": {},
   "outputs": [],
   "source": [
    "if x == 3:\n",
    "    print(X equals 3.)\n",
    "elif x == 2:\n",
    "    print(X equals 2.)\n",
    "else:\n",
    "    print(X equals something else.)\n",
    "    print(This is outside the ‘if’.)"
   ]
  },
  {
   "cell_type": "markdown",
   "metadata": {},
   "source": [
    "while loops (As expected)"
   ]
  },
  {
   "cell_type": "code",
   "execution_count": null,
   "metadata": {},
   "outputs": [],
   "source": [
    "x = 3\n",
    "\n",
    "while x < 5:\n",
    "    print x\n",
    "    print(\"still in the loop\")\n",
    "    x = x + 1\n",
    "\n",
    "3 still in the loop\n",
    "4 still in the loop\n",
    "\n",
    "x = 6\n",
    "\n",
    "while x < 5:\n",
    "    print x\n",
    "    print(\"still in the loop\")"
   ]
  },
  {
   "cell_type": "code",
   "execution_count": null,
   "metadata": {},
   "outputs": [],
   "source": [
    "assert(number_of_players < 5) #assert"
   ]
  }
 ],
 "metadata": {
  "kernelspec": {
   "display_name": "Python 3.8.13 ('opencv')",
   "language": "python",
   "name": "python3"
  },
  "language_info": {
   "name": "python",
   "version": "3.8.13"
  },
  "orig_nbformat": 4,
  "vscode": {
   "interpreter": {
    "hash": "4ee064a54d0d8c5af225fc451e4b901e72aa525763a0df0e9410e1575d71cfdd"
   }
  }
 },
 "nbformat": 4,
 "nbformat_minor": 2
}
