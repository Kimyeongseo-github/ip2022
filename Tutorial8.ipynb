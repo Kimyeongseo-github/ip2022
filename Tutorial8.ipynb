{
 "cells": [
  {
   "cell_type": "markdown",
   "metadata": {},
   "source": [
    "Functions in Python"
   ]
  },
  {
   "cell_type": "code",
   "execution_count": null,
   "metadata": {},
   "outputs": [],
   "source": [
    "def myfun(x, y):\n",
    "    return x * y\n",
    "\n",
    "myfun(3, 4)"
   ]
  },
  {
   "cell_type": "code",
   "execution_count": null,
   "metadata": {},
   "outputs": [],
   "source": [
    "def myfun(x):\n",
    "    return x*3\n",
    "def apply(q, x):\n",
    "    return q(x)\n",
    "apply(myfun, 7)"
   ]
  },
  {
   "cell_type": "code",
   "execution_count": null,
   "metadata": {},
   "outputs": [],
   "source": [
    "apply(lambda z: z * 4, 7)"
   ]
  },
  {
   "cell_type": "code",
   "execution_count": null,
   "metadata": {},
   "outputs": [],
   "source": [
    "def myfun(b, c=3, d=“hello”):\n",
    "    return b + c\n",
    "myfun(5,3, \"hello”)\n",
    "myfun(5,3)\n",
    "myfun(5)"
   ]
  },
  {
   "cell_type": "code",
   "execution_count": null,
   "metadata": {},
   "outputs": [],
   "source": [
    "def myfun (a, b, c):\n",
    "    return a-b\n",
    "myfun(2, 1, 43)\n",
    "myfun(c=43, b=1, a=2)\n",
    "myfun(2, c=43, b=1)"
   ]
  }
 ],
 "metadata": {
  "kernelspec": {
   "display_name": "Python 3.8.13 ('opencv')",
   "language": "python",
   "name": "python3"
  },
  "language_info": {
   "name": "python",
   "version": "3.8.13"
  },
  "orig_nbformat": 4,
  "vscode": {
   "interpreter": {
    "hash": "4ee064a54d0d8c5af225fc451e4b901e72aa525763a0df0e9410e1575d71cfdd"
   }
  }
 },
 "nbformat": 4,
 "nbformat_minor": 2
}
