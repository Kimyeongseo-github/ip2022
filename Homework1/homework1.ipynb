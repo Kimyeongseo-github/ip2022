{
 "cells": [
  {
   "cell_type": "code",
   "execution_count": null,
   "metadata": {},
   "outputs": [],
   "source": [
    "import numpy as np\n",
    "import cv2"
   ]
  },
  {
   "cell_type": "code",
   "execution_count": null,
   "metadata": {},
   "outputs": [],
   "source": [
    "image = cv2.imread('mounmoun.jpg')"
   ]
  },
  {
   "cell_type": "code",
   "execution_count": null,
   "metadata": {},
   "outputs": [],
   "source": [
    "drawing = False \n",
    "mode = True\n",
    "ix,iy = -1,-1"
   ]
  },
  {
   "cell_type": "code",
   "execution_count": null,
   "metadata": {},
   "outputs": [],
   "source": [
    "def nothing(x): #<- 콜백을 위해서\n",
    "    pass\n",
    "\n",
    "def draw_square(event,x,y,flags,param): # 마우스 콜백\n",
    "    global ix,iy,drawing,mode\n",
    "    if event == cv2.EVENT_LBUTTONDOWN:\n",
    "        drawing = True\n",
    "        ix,iy = x,y\n",
    "    elif event == cv2.EVENT_LBUTTONUP:\n",
    "        drawing = False\n",
    "    elif event == cv2.EVENT_MOUSEMOVE:\n",
    "        if drawing == True:\n",
    "            if mode == True:\n",
    "                cv2.rectangle(image,(ix,iy),(x,y),(0,255,0),-1)\n",
    "\n",
    "cv2.namedWindow('Homework window') \n",
    "cv2.setMouseCallback('image', draw_square)\n",
    "cv2.createTrackbar('image',0, 255, nothing)\n",
    "\n",
    "while(1):\n",
    "    imagecopy = image.copy() #안하면 작동이 안됨..\n",
    "    font = cv2.FONT_HERSHEY_SIMPLEX # 이미지 위로 글씨\n",
    "    cv2.putText(imagecopy,'text',(15,70), font, 2,(255,255,255),2,cv2.LINE_AA)\n",
    "    cv2.imshow('image',imagecopy)\n",
    "    k = cv2.waitKey(1) & 0xFF\n",
    "    if k == 27:\n",
    "        break\n",
    "cv2.destroyAllWindows()"
   ]
  }
 ],
 "metadata": {
  "kernelspec": {
   "display_name": "Python 3.8.13 ('opencv')",
   "language": "python",
   "name": "python3"
  },
  "language_info": {
   "codemirror_mode": {
    "name": "ipython",
    "version": 3
   },
   "file_extension": ".py",
   "mimetype": "text/x-python",
   "name": "python",
   "nbconvert_exporter": "python",
   "pygments_lexer": "ipython3",
   "version": "3.8.13"
  },
  "orig_nbformat": 4,
  "vscode": {
   "interpreter": {
    "hash": "c803189a942138be9fef65e4840b05895068c288bb30e760715de59281a65f59"
   }
  }
 },
 "nbformat": 4,
 "nbformat_minor": 2
}
